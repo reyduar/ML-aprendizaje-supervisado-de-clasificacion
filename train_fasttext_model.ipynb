{
 "cells": [
  {
   "cell_type": "code",
   "execution_count": 2,
   "metadata": {},
   "outputs": [],
   "source": [
    "# -*- coding: utf-8 -*-\n",
    "\"\"\"\n",
    "@author: ariel.duarte\n",
    "\"\"\"\n",
    "import fasttext\n",
    "\n",
    "classifier = fasttext.supervised('fasttext_dataset_training.txt', 'reviews_model')\n",
    "\n",
    "# \n",
    "# fasttext.supervised('fasttext_dataset_training.txt', 'reviews_model_ngrams', word_ngrams=1)"
   ]
  }
 ],
 "metadata": {
  "kernelspec": {
   "display_name": "Python 3",
   "language": "python",
   "name": "python3"
  },
  "language_info": {
   "codemirror_mode": {
    "name": "ipython",
    "version": 3
   },
   "file_extension": ".py",
   "mimetype": "text/x-python",
   "name": "python",
   "nbconvert_exporter": "python",
   "pygments_lexer": "ipython3",
   "version": "3.7.1"
  }
 },
 "nbformat": 4,
 "nbformat_minor": 2
}
