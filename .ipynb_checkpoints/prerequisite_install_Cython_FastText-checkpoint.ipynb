{
 "cells": [
  {
   "cell_type": "code",
   "execution_count": 1,
   "metadata": {},
   "outputs": [
    {
     "name": "stdout",
     "output_type": "stream",
     "text": [
      "Requirement already satisfied: Cython in c:\\users\\aduarte\\appdata\\local\\continuum\\anaconda3\\envs\\data\\lib\\site-packages (0.29.5)\n"
     ]
    },
    {
     "name": "stderr",
     "output_type": "stream",
     "text": [
      "C:\\Users\\aduarte\\AppData\\Local\\Continuum\\anaconda3\\envs\\data\\lib\\site-packages\\pip\\_internal\\commands\\install.py:207: UserWarning: Disabling all use of wheels due to the use of --build-options / --global-options / --install-options.\n",
      "  cmdoptions.check_install_build_global(options)\n"
     ]
    }
   ],
   "source": [
    "# Cython is a prerequisite to install fasttext\n",
    "import sys\n",
    "!{sys.executable} -m pip install Cython --install-option=\"--no-cython-compile\""
   ]
  },
  {
   "cell_type": "code",
   "execution_count": null,
   "metadata": {},
   "outputs": [],
   "source": [
    "# Install fastText on system environment\n",
    "import sys\n",
    "!{sys.executable} -m pip install fasttext"
   ]
  }
 ],
 "metadata": {
  "kernelspec": {
   "display_name": "Python 3",
   "language": "python",
   "name": "python3"
  },
  "language_info": {
   "codemirror_mode": {
    "name": "ipython",
    "version": 3
   },
   "file_extension": ".py",
   "mimetype": "text/x-python",
   "name": "python",
   "nbconvert_exporter": "python",
   "pygments_lexer": "ipython3",
   "version": "3.7.1"
  }
 },
 "nbformat": 4,
 "nbformat_minor": 2
}
