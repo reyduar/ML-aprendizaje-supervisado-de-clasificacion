{
 "cells": [
  {
   "cell_type": "code",
   "execution_count": 5,
   "metadata": {},
   "outputs": [
    {
     "name": "stdout",
     "output_type": "stream",
     "text": [
      "[[], [], [], [], [], [], [], []]\n"
     ]
    }
   ],
   "source": [
    "# -*- coding: utf-8 -*-\n",
    "\"\"\"\n",
    "@author: ariel.duarte\n",
    "\"\"\"\n",
    "import fasttext\n",
    "import re\n",
    "\n",
    "def strip_formatting(string):\n",
    "    string = string.lower()\n",
    "    string = re.sub(r\"([.!?,'/()])\", r\" \\1 \", string)\n",
    "    return string\n",
    "\n",
    "# Reviews to check\n",
    "reviews = [\n",
    "    \"I love Hot Sauce Wiliams\",\n",
    "    \"I hate this place so much. They were mean to me.\",\n",
    "    \"I don't know. It was ok, I guess. Not really sure what to say.\"\n",
    "]\n",
    "\n",
    "# Pre-process the text of each review so it matches the training format\n",
    "preprocessed_reviews = list(map(strip_formatting, reviews))\n",
    "# Load the model\n",
    "classifier = fasttext.load_model('reviews_model.bin')\n",
    "\n",
    "array = preprocessed_reviews\n",
    "\n",
    "labels = classifier.predict('i hate .',k=1)\n",
    "\n",
    "print(labels)"
   ]
  }
 ],
 "metadata": {
  "kernelspec": {
   "display_name": "Python 3",
   "language": "python",
   "name": "python3"
  },
  "language_info": {
   "codemirror_mode": {
    "name": "ipython",
    "version": 3
   },
   "file_extension": ".py",
   "mimetype": "text/x-python",
   "name": "python",
   "nbconvert_exporter": "python",
   "pygments_lexer": "ipython3",
   "version": "3.7.1"
  }
 },
 "nbformat": 4,
 "nbformat_minor": 2
}
