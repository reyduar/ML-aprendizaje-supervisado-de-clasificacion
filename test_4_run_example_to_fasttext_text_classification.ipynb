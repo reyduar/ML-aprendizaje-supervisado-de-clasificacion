{
 "cells": [
  {
   "cell_type": "code",
   "execution_count": 11,
   "metadata": {},
   "outputs": [
    {
     "name": "stdout",
     "output_type": "stream",
     "text": [
      "['i love hot sauce wiliams', 'i hate this place so much .  they were mean to me . ', \"i don ' t know .  it was ok ,  i guess .  not really sure what to say . \"]\n"
     ]
    }
   ],
   "source": [
    "# -*- coding: utf-8 -*-\n",
    "\"\"\"\n",
    "@author: ariel.duarte\n",
    "\n",
    "Load the model and use it to automatically score user reviews:\n",
    "\"\"\"\n",
    "\n",
    "import fasttext\n",
    "import re\n",
    "\n",
    "def strip_formatting(string):\n",
    "    string = string.lower()\n",
    "    string = re.sub(r\"([.!?,'/()])\", r\" \\1 \", string)\n",
    "    return string\n",
    "\n",
    "# Reviews to check\n",
    "reviews = [\n",
    "    \"I love Hot Sauce Wiliams\",\n",
    "    \"I hate this place so much. They were mean to me.\",\n",
    "    \"I don't know. It was ok, I guess. Not really sure what to say.\"\n",
    "]\n",
    "\n",
    "# Pre-process the text of each review so it matches the training format\n",
    "preprocessed_reviews = list(map(strip_formatting, reviews))\n",
    "\n",
    "# Load the model\n",
    "classifier = fasttext.load_model('reviews_model.bin')\n",
    "\n",
    "# Get fastText to classify each review with the model\n",
    "labels, probabilities = classifier.predict(preprocessed_reviews)\n",
    "\n",
    "# Print the results\n",
    "for review, label, probability in zip(reviews, labels, probabilities):\n",
    "    stars = int(label[0][-1])\n",
    "\n",
    "    print(\"{} ({}% confidence)\".format(\"☆\" * stars, int(probability[0] * 100)))\n",
    "    print(review)\n",
    "    print()"
   ]
  },
  {
   "cell_type": "code",
   "execution_count": null,
   "metadata": {},
   "outputs": [],
   "source": []
  }
 ],
 "metadata": {
  "kernelspec": {
   "display_name": "Python 3",
   "language": "python",
   "name": "python3"
  },
  "language_info": {
   "codemirror_mode": {
    "name": "ipython",
    "version": 3
   },
   "file_extension": ".py",
   "mimetype": "text/x-python",
   "name": "python",
   "nbconvert_exporter": "python",
   "pygments_lexer": "ipython3",
   "version": "3.7.1"
  }
 },
 "nbformat": 4,
 "nbformat_minor": 2
}
